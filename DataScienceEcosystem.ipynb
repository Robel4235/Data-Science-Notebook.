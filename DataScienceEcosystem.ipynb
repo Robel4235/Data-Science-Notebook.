{
 "cells": [
  {
   "cell_type": "markdown",
   "id": "fe724048-4367-476f-b2c8-d479af2d022b",
   "metadata": {},
   "source": [
    "# Data Science Tools and Ecosystem"
   ]
  },
  {
   "cell_type": "markdown",
   "id": "3159d0d9-4444-4119-aae4-c02fbcb61bb6",
   "metadata": {},
   "source": [
    "In this notebook, Data Science Tools and Ecosystem are summarized.\n",
    "\n"
   ]
  },
  {
   "cell_type": "markdown",
   "id": "ba84b5c0-ec59-4cce-a1a3-95ef1b4c9044",
   "metadata": {},
   "source": [
    "**Objectives:**\n",
    "\n",
    "- List popular languages for Data Science.\n",
    "- Identify commonly used libraries in Data Science.\n",
    "- Introduce arithmetic expression examples in Python.\n",
    "- Create tables and lists in Markdown.\n",
    "- Convert units (e.g., minutes to hours) using Python."
   ]
  },
  {
   "cell_type": "markdown",
   "id": "e12bc730-a0ce-4c5f-8bcf-88c9385d6bb7",
   "metadata": {},
   "source": [
    "Some of the popular languages that Data Scientists use are: \n",
    "1. python\n",
    "2. SQL\n",
    "3. Julia\n",
    "4. R\n"
   ]
  },
  {
   "cell_type": "markdown",
   "id": "d2427631-5ad0-4324-bc3e-38a39bc1c571",
   "metadata": {},
   "source": [
    "Some of the commonly used libraries used by Data Scientists include:\n",
    "\n",
    "1. Pandas\n",
    "2. NumPy\n",
    "3. Scikit-learn\n",
    "4. TensorFlow\n",
    "5. Matplotlib"
   ]
  },
  {
   "cell_type": "markdown",
   "id": "f0056b55-d5a7-4fc5-9e1a-3bf958b02b7f",
   "metadata": {},
   "source": [
    "| Data Science Tools |\n",
    "|--------------------|\n",
    "| Jupyter Notebook   |\n",
    "| RStudio            |\n",
    "| VS Code            |"
   ]
  },
  {
   "cell_type": "markdown",
   "id": "e055851e-9cc2-4662-abec-6b4d0c5eadf5",
   "metadata": {},
   "source": [
    "### Below are a few examples of evaluating arithmetic expressions in Python."
   ]
  },
  {
   "cell_type": "markdown",
   "id": "77849ab5-e646-48ef-9c29-2877d936793d",
   "metadata": {},
   "source": [
    "This a simple arithmetic expression to mutiply then add integers"
   ]
  },
  {
   "cell_type": "code",
   "execution_count": 14,
   "id": "9b53c85e-d780-43cb-b02f-d223b30b8f90",
   "metadata": {},
   "outputs": [
    {
     "data": {
      "text/plain": [
       "17"
      ]
     },
     "execution_count": 14,
     "metadata": {},
     "output_type": "execute_result"
    }
   ],
   "source": [
    "(3*4)+5"
   ]
  },
  {
   "cell_type": "markdown",
   "id": "f88bce32-eb17-4a83-812c-9bd4e2d8b5dc",
   "metadata": {},
   "source": [
    "This will convert 200 minutes to hours by diving by 60."
   ]
  },
  {
   "cell_type": "code",
   "execution_count": 20,
   "id": "934b1962-b7c9-4fa1-955f-2f263a33555c",
   "metadata": {},
   "outputs": [],
   "source": [
    "hours=200/60\n"
   ]
  },
  {
   "cell_type": "code",
   "execution_count": 22,
   "id": "13723ab4-5fe2-4e3f-9c3b-01c9f9679e00",
   "metadata": {},
   "outputs": [
    {
     "data": {
      "text/plain": [
       "3.3333333333333335"
      ]
     },
     "execution_count": 22,
     "metadata": {},
     "output_type": "execute_result"
    }
   ],
   "source": [
    "hours"
   ]
  },
  {
   "cell_type": "markdown",
   "id": "9e0f9651-345a-416a-88a6-a6051512f1cb",
   "metadata": {},
   "source": [
    "## Author"
   ]
  },
  {
   "cell_type": "markdown",
   "id": "b489e497-03e4-496a-8eb3-b60b610421bf",
   "metadata": {},
   "source": [
    "Robel Avraham"
   ]
  },
  {
   "cell_type": "code",
   "execution_count": null,
   "id": "db4e2f26-0993-4c0f-8a51-8cd14d853208",
   "metadata": {},
   "outputs": [],
   "source": []
  }
 ],
 "metadata": {
  "kernelspec": {
   "display_name": "Python [conda env:base] *",
   "language": "python",
   "name": "conda-base-py"
  },
  "language_info": {
   "codemirror_mode": {
    "name": "ipython",
    "version": 3
   },
   "file_extension": ".py",
   "mimetype": "text/x-python",
   "name": "python",
   "nbconvert_exporter": "python",
   "pygments_lexer": "ipython3",
   "version": "3.12.7"
  }
 },
 "nbformat": 4,
 "nbformat_minor": 5
}
